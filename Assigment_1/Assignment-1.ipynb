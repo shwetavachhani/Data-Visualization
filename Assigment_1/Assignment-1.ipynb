{
 "cells": [
  {
   "cell_type": "markdown",
   "id": "57af22c3",
   "metadata": {},
   "source": [
    "## Name: Shwetabahen Rangani\n",
    "\n",
    "\n",
    "Date : Jan 20/2023\n",
    "\n",
    "\n",
    "\n"
   ]
  },
  {
   "cell_type": "code",
   "execution_count": 1,
   "id": "994a6ed4",
   "metadata": {},
   "outputs": [],
   "source": [
    "import pandas as pd"
   ]
  },
  {
   "cell_type": "code",
   "execution_count": 2,
   "id": "5671bb40-d563-49c2-b2fc-8c4a02e8aaa4",
   "metadata": {},
   "outputs": [],
   "source": [
    "df = pd.read_csv('starwars.csv')"
   ]
  },
  {
   "cell_type": "markdown",
   "id": "591c54cd",
   "metadata": {},
   "source": [
    "## Question-1\n",
    "### Write code that determines the number of unique values for age."
   ]
  },
  {
   "cell_type": "code",
   "execution_count": 3,
   "id": "12813ec1",
   "metadata": {
    "scrolled": true
   },
   "outputs": [
    {
     "data": {
      "text/plain": [
       "4"
      ]
     },
     "execution_count": 3,
     "metadata": {},
     "output_type": "execute_result"
    }
   ],
   "source": [
    "df['age'].nunique()"
   ]
  },
  {
   "cell_type": "markdown",
   "id": "83e7660e",
   "metadata": {},
   "source": [
    "## Question-2\n",
    "### Write code that lists all the unique responses to the question, \"Who shot first?\" (who_shot_first field)."
   ]
  },
  {
   "cell_type": "code",
   "execution_count": 4,
   "id": "ece65cd3",
   "metadata": {},
   "outputs": [
    {
     "data": {
      "text/plain": [
       "array([\"I don't understand this question\", nan, 'Greedo', 'Han'],\n",
       "      dtype=object)"
      ]
     },
     "execution_count": 4,
     "metadata": {},
     "output_type": "execute_result"
    }
   ],
   "source": [
    "df['who_shot_first'].unique()"
   ]
  },
  {
   "cell_type": "markdown",
   "id": "52605d5e",
   "metadata": {},
   "source": [
    "## Question-3\n",
    "### Write code to determine the number of entries in the data set that view Darth Vader as \"Very favorably\" or \"Somewhat favorably\"."
   ]
  },
  {
   "cell_type": "code",
   "execution_count": 5,
   "id": "98460757",
   "metadata": {
    "scrolled": true
   },
   "outputs": [
    {
     "data": {
      "text/plain": [
       "481"
      ]
     },
     "execution_count": 5,
     "metadata": {},
     "output_type": "execute_result"
    }
   ],
   "source": [
    "Search_for_both = ['Somewhat favorably', 'Very favorably']\n",
    "\n",
    "df[df['view_darth_vader'].isin(Search_for_both)].shape[0]\n",
    "\n",
    "# reference for using shape* \n",
    "# https://stackoverflow.com/questions/35277075/python-pandas-counting-the-occurrences-of-a-specific-value"
   ]
  },
  {
   "cell_type": "code",
   "execution_count": 6,
   "id": "7a273268",
   "metadata": {},
   "outputs": [
    {
     "data": {
      "text/plain": [
       "481"
      ]
     },
     "execution_count": 6,
     "metadata": {},
     "output_type": "execute_result"
    }
   ],
   "source": [
    "# another way with records\n",
    "\n",
    "len(df[(df['view_darth_vader'].str.contains('Somewhat favorably')) | (df['view_darth_vader'].str.contains('Very favorably'))])\n",
    "\n"
   ]
  },
  {
   "cell_type": "markdown",
   "id": "e1846dc1",
   "metadata": {},
   "source": [
    "## Question-4\n",
    "### Write code that computes the total number of people that have seen all 6 Star Wars films (hint: 471)."
   ]
  },
  {
   "cell_type": "code",
   "execution_count": 7,
   "id": "efc98d8d",
   "metadata": {
    "scrolled": true
   },
   "outputs": [
    {
     "data": {
      "text/plain": [
       "471"
      ]
     },
     "execution_count": 7,
     "metadata": {},
     "output_type": "execute_result"
    }
   ],
   "source": [
    "len(df[(df['seen_episode1']=='Yes') & (df['seen_episode2']=='Yes') &\n",
    "(df['seen_episode3']=='Yes') & (df['seen_episode4']=='Yes') &\n",
    "(df['seen_episode5']=='Yes') & (df['seen_episode6']=='Yes')])\n"
   ]
  },
  {
   "cell_type": "markdown",
   "id": "56300fc5",
   "metadata": {},
   "source": [
    "## Question-5\n",
    "### Write code that computes the percentage of males and females that are fans of Star Wars.\n",
    "\n"
   ]
  },
  {
   "cell_type": "markdown",
   "id": "3d491590",
   "metadata": {},
   "source": [
    "Percentage for male"
   ]
  },
  {
   "cell_type": "code",
   "execution_count": 10,
   "id": "e4977869",
   "metadata": {},
   "outputs": [
    {
     "data": {
      "text/plain": [
       "60.96579476861167"
      ]
     },
     "execution_count": 10,
     "metadata": {},
     "output_type": "execute_result"
    }
   ],
   "source": [
    "Total_male = len(df[df['gender']=='Male'])\n",
    "Male_fan= len(df[(df['fan']=='Yes') & (df['gender']=='Male') ])\n",
    "Male_fan/Total_male *100\n"
   ]
  },
  {
   "cell_type": "markdown",
   "id": "f045798c",
   "metadata": {},
   "source": [
    "Percentage for Female"
   ]
  },
  {
   "cell_type": "code",
   "execution_count": 11,
   "id": "ff5abb4a",
   "metadata": {},
   "outputs": [
    {
     "data": {
      "text/plain": [
       "43.35154826958106"
      ]
     },
     "execution_count": 11,
     "metadata": {},
     "output_type": "execute_result"
    }
   ],
   "source": [
    "Total_female = len(df[df['gender']=='Female'])\n",
    "Female_fan= len(df[(df['fan']=='Yes') & (df['gender']=='Female') ])\n",
    "Female_fan/Total_female *100"
   ]
  }
 ],
 "metadata": {
  "kernelspec": {
   "display_name": "Python 3 (ipykernel)",
   "language": "python",
   "name": "python3"
  },
  "language_info": {
   "codemirror_mode": {
    "name": "ipython",
    "version": 3
   },
   "file_extension": ".py",
   "mimetype": "text/x-python",
   "name": "python",
   "nbconvert_exporter": "python",
   "pygments_lexer": "ipython3",
   "version": "3.11.1"
  }
 },
 "nbformat": 4,
 "nbformat_minor": 5
}
